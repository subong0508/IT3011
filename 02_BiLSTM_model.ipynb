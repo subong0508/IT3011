{
 "cells": [
  {
   "cell_type": "markdown",
   "metadata": {},
   "source": [
    "# 0. get X, Y "
   ]
  },
  {
   "cell_type": "code",
   "execution_count": 1,
   "metadata": {},
   "outputs": [],
   "source": [
    "import pickle\n",
    "import getXY \n",
    "\n",
    "with open('getXY.pickle', 'rb') as f:\n",
    "    get = pickle.load(f)"
   ]
  },
  {
   "cell_type": "code",
   "execution_count": 2,
   "metadata": {},
   "outputs": [],
   "source": [
    "train_padded, y_train_onehot = get.get_train_set()\n",
    "test_padded, y_test_onehot = get.get_test_set()"
   ]
  },
  {
   "cell_type": "markdown",
   "metadata": {},
   "source": [
    "# 1. Implementing BiLSTM\n",
    "[reference link](https://arxiv.org/pdf/1708.00524.pdf)"
   ]
  },
  {
   "cell_type": "code",
   "execution_count": 4,
   "metadata": {},
   "outputs": [],
   "source": [
    "import numpy as np\n",
    "import pandas as pd\n",
    "import matplotlib.pyplot as plt\n",
    "%matplotlib inline"
   ]
  },
  {
   "cell_type": "code",
   "execution_count": 5,
   "metadata": {},
   "outputs": [],
   "source": [
    "# !pip install keras-self-attention"
   ]
  },
  {
   "cell_type": "code",
   "execution_count": 11,
   "metadata": {},
   "outputs": [
    {
     "name": "stdout",
     "output_type": "stream",
     "text": [
      "Model: \"sequential_1\"\n",
      "_________________________________________________________________\n",
      "Layer (type)                 Output Shape              Param #   \n",
      "=================================================================\n",
      "embedding_1 (Embedding)      (None, 26, 200)           16821600  \n",
      "_________________________________________________________________\n",
      "dropout_1 (Dropout)          (None, 26, 200)           0         \n",
      "_________________________________________________________________\n",
      "bidirectional_1 (Bidirection (None, 128)               135680    \n",
      "_________________________________________________________________\n",
      "dense_1 (Dense)              (None, 20)                2580      \n",
      "=================================================================\n",
      "Total params: 16,959,860\n",
      "Trainable params: 16,959,860\n",
      "Non-trainable params: 0\n",
      "_________________________________________________________________\n"
     ]
    }
   ],
   "source": [
    "from tensorflow.keras import models, layers\n",
    "\n",
    "vocab_size = np.max(train_padded) + 1\n",
    "embedding_dim = 200\n",
    "\n",
    "model = models.Sequential()\n",
    "model.add(layers.Embedding(input_dim = vocab_size, output_dim = embedding_dim,\n",
    "                          embeddings_regularizer = 'l2', input_length = 26, mask_zero = True, trainable = True))\n",
    "model.add(layers.Dropout(0.4))\n",
    "model.add(layers.Bidirectional(layers.LSTM(64)))\n",
    "model.add(layers.Dense(20, activation='softmax'))\n",
    "\n",
    "model.summary()"
   ]
  },
  {
   "cell_type": "code",
   "execution_count": 12,
   "metadata": {},
   "outputs": [],
   "source": [
    "model.compile(loss = 'categorical_crossentropy', optimizer = 'adam', metrics = ['acc'])"
   ]
  },
  {
   "cell_type": "code",
   "execution_count": 13,
   "metadata": {},
   "outputs": [
    {
     "name": "stdout",
     "output_type": "stream",
     "text": [
      "Train on 321638 samples, validate on 107213 samples\n",
      "Epoch 1/10\n",
      "321638/321638 [==============================] - 628s 2ms/sample - loss: 15.0675 - acc: 0.3017 - val_loss: 2.4381 - val_acc: 0.3421\n",
      "Epoch 2/10\n",
      "321638/321638 [==============================] - 535s 2ms/sample - loss: 2.4068 - acc: 0.3617 - val_loss: 2.3880 - val_acc: 0.3798\n",
      "Epoch 3/10\n",
      "321638/321638 [==============================] - 517s 2ms/sample - loss: 2.3792 - acc: 0.3937 - val_loss: 2.3729 - val_acc: 0.4024\n",
      "Epoch 4/10\n",
      "321638/321638 [==============================] - 521s 2ms/sample - loss: 2.3723 - acc: 0.4051 - val_loss: 2.3685 - val_acc: 0.4117\n",
      "Epoch 5/10\n",
      "321638/321638 [==============================] - 518s 2ms/sample - loss: 2.3643 - acc: 0.4129 - val_loss: 2.3568 - val_acc: 0.4193\n",
      "Epoch 6/10\n",
      "321638/321638 [==============================] - 541s 2ms/sample - loss: 2.3543 - acc: 0.4193 - val_loss: 2.3495 - val_acc: 0.4267\n",
      "Epoch 7/10\n",
      "321638/321638 [==============================] - 577s 2ms/sample - loss: 2.3484 - acc: 0.4249 - val_loss: 2.3386 - val_acc: 0.4312\n",
      "Epoch 8/10\n",
      "321638/321638 [==============================] - 595s 2ms/sample - loss: 2.3484 - acc: 0.4294 - val_loss: 2.3346 - val_acc: 0.4348\n",
      "Epoch 9/10\n",
      "321638/321638 [==============================] - 604s 2ms/sample - loss: 2.3450 - acc: 0.4332 - val_loss: 2.3371 - val_acc: 0.4379\n",
      "Epoch 10/10\n",
      "321638/321638 [==============================] - 586s 2ms/sample - loss: 2.3450 - acc: 0.4358 - val_loss: 2.3491 - val_acc: 0.4386\n"
     ]
    }
   ],
   "source": [
    "from tensorflow.keras.callbacks import ModelCheckpoint, EarlyStopping\n",
    "import warnings\n",
    "warnings.filterwarnings('ignore')\n",
    "\n",
    "\n",
    "callback_list = [ModelCheckpoint(filepath = 'biLSTM_model.h5', monitor = 'val_loss',\n",
    "                                                    save_best_only = True),\n",
    "                 EarlyStopping(patience = 5)]\n",
    "\n",
    "history = model.fit(train_padded, y_train_onehot, batch_size = 2048, epochs = 10, callbacks = callback_list,\n",
    "                   validation_data = (test_padded, y_test_onehot))"
   ]
  },
  {
   "cell_type": "code",
   "execution_count": 17,
   "metadata": {},
   "outputs": [
    {
     "name": "stdout",
     "output_type": "stream",
     "text": [
      "107213/107213 [==============================] - 366s 3ms/sample - loss: 2.3346 - acc: 0.4348\n"
     ]
    },
    {
     "data": {
      "text/plain": [
       "[2.3346346420240303, 0.43481666]"
      ]
     },
     "execution_count": 17,
     "metadata": {},
     "output_type": "execute_result"
    }
   ],
   "source": [
    "from tensorflow.keras.models import load_model\n",
    "\n",
    "restored_model = load_model('biLSTM_model.h5')\n",
    "\n",
    "restored_model.evaluate(test_padded, y_test_onehot, verbose = 1)"
   ]
  },
  {
   "cell_type": "code",
   "execution_count": 20,
   "metadata": {},
   "outputs": [],
   "source": [
    "restored_model.save_weights('biLSTM_weights.h5')"
   ]
  },
  {
   "cell_type": "code",
   "execution_count": 18,
   "metadata": {},
   "outputs": [
    {
     "data": {
      "image/png": "[encoded data removed]",
      "text/plain": [
       "<Figure size 432x288 with 1 Axes>"
      ]
     },
     "metadata": {
      "needs_background": "light"
     },
     "output_type": "display_data"
    }
   ],
   "source": [
    "import matplotlib.pyplot as plt\n",
    "epochs = np.arange(1, 11)\n",
    "plt.plot(epochs, history.history['loss'], label = 'Train Loss')\n",
    "plt.plot(epochs, history.history['val_loss'], label = 'Validation Loss')\n",
    "plt.legend()\n",
    "plt.savefig('biLSTM_loss.png')\n",
    "plt.show()"
   ]
  },
  {
   "cell_type": "code",
   "execution_count": 19,
   "metadata": {},
   "outputs": [
    {
     "data": {
      "image/png": "[encoded data removed]",
      "text/plain": [
       "<Figure size 432x288 with 1 Axes>"
      ]
     },
     "metadata": {
      "needs_background": "light"
     },
     "output_type": "display_data"
    }
   ],
   "source": [
    "plt.plot(epochs, history.history['acc'], label = 'Training Acc')\n",
    "plt.plot(epochs, history.history['val_acc'], label = 'Validation Acc')\n",
    "plt.legend()\n",
    "plt.savefig('biLSTM_acc.png')\n",
    "plt.show()"
   ]
  }
 ],
 "metadata": {
  "kernelspec": {
   "display_name": "Python 3.8.1 64-bit ('test': conda)",
   "language": "python",
   "name": "python38164bittestconda71e86b17d56e4723b6a5e3821da5a065"
  },
  "language_info": {
   "codemirror_mode": {
    "name": "ipython",
    "version": 3
   },
   "file_extension": ".py",
   "mimetype": "text/x-python",
   "name": "python",
   "nbconvert_exporter": "python",
   "pygments_lexer": "ipython3",
   "version": "3.7.6"
  }
 },
 "nbformat": 4,
 "nbformat_minor": 4
}
