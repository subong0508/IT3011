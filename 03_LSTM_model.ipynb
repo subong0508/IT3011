{
 "cells": [
  {
   "cell_type": "markdown",
   "metadata": {},
   "source": [
    "# 0. get X, Y"
   ]
  },
  {
   "cell_type": "code",
   "execution_count": 16,
   "metadata": {},
   "outputs": [],
   "source": [
    "import pickle\n",
    "import getXY_new\n",
    "import numpy as np\n",
    "import pandas as pd\n",
    "import matplotlib.pyplot as plt\n",
    "%matplotlib inline\n",
    "\n",
    "with open('getXY_new.pickle', 'rb') as f:\n",
    "    get = pickle.load(f)"
   ]
  },
  {
   "cell_type": "code",
   "execution_count": 17,
   "metadata": {},
   "outputs": [
    {
     "name": "stdout",
     "output_type": "stream",
     "text": [
      "(321638, 26) (107213, 26)\n",
      "9999\n"
     ]
    }
   ],
   "source": [
    "train_padded, y_train_onehot = get.get_train_set()\n",
    "test_padded, y_test_onehot = get.get_test_set()\n",
    "\n",
    "print(train_padded.shape, test_padded.shape)\n",
    "print(np.max(train_padded)) # revised"
   ]
  },
  {
   "cell_type": "markdown",
   "metadata": {},
   "source": [
    "# 1. Implementing LSTM"
   ]
  },
  {
   "cell_type": "code",
   "execution_count": 18,
   "metadata": {},
   "outputs": [
    {
     "name": "stdout",
     "output_type": "stream",
     "text": [
      "Model: \"sequential_1\"\n",
      "_________________________________________________________________\n",
      "Layer (type)                 Output Shape              Param #   \n",
      "=================================================================\n",
      "embedding_1 (Embedding)      (None, 26, 200)           2000000   \n",
      "_________________________________________________________________\n",
      "lstm_1 (LSTM)                (None, 128)               168448    \n",
      "_________________________________________________________________\n",
      "dense_1 (Dense)              (None, 20)                2580      \n",
      "=================================================================\n",
      "Total params: 2,171,028\n",
      "Trainable params: 2,171,028\n",
      "Non-trainable params: 0\n",
      "_________________________________________________________________\n"
     ]
    }
   ],
   "source": [
    "from tensorflow.keras import models, layers\n",
    "\n",
    "vocab_size = np.max(train_padded) + 1\n",
    "embedding_dim = 200\n",
    "\n",
    "model = models.Sequential()\n",
    "model.add(layers.Embedding(input_dim = vocab_size, output_dim = embedding_dim,\n",
    "                          embeddings_regularizer = 'l2', input_length = 26, mask_zero = True, trainable = True))\n",
    "model.add(layers.LSTM(128))\n",
    "model.add(layers.Dense(20, activation='softmax'))\n",
    "\n",
    "model.summary()"
   ]
  },
  {
   "cell_type": "code",
   "execution_count": 7,
   "metadata": {},
   "outputs": [],
   "source": [
    "model.compile(loss = 'categorical_crossentropy', optimizer = 'adam', metrics = ['acc'])"
   ]
  },
  {
   "cell_type": "code",
   "execution_count": 9,
   "metadata": {},
   "outputs": [
    {
     "name": "stdout",
     "output_type": "stream",
     "text": [
      "Train on 321638 samples, validate on 107213 samples\n",
      "Epoch 1/20\n",
      "321638/321638 [==============================] - 517s 2ms/sample - loss: 2.4760 - acc: 0.3243 - val_loss: 2.3731 - val_acc: 0.3569\n",
      "Epoch 2/20\n",
      "321638/321638 [==============================] - 510s 2ms/sample - loss: 2.3247 - acc: 0.3679 - val_loss: 2.2913 - val_acc: 0.3817\n",
      "Epoch 3/20\n",
      "321638/321638 [==============================] - 508s 2ms/sample - loss: 2.2559 - acc: 0.3934 - val_loss: 2.2618 - val_acc: 0.3976\n",
      "Epoch 4/20\n",
      "321638/321638 [==============================] - 506s 2ms/sample - loss: 2.2148 - acc: 0.4056 - val_loss: 2.2074 - val_acc: 0.4111\n",
      "Epoch 5/20\n",
      "321638/321638 [==============================] - 518s 2ms/sample - loss: 2.1874 - acc: 0.4143 - val_loss: 2.1811 - val_acc: 0.4164\n",
      "Epoch 6/20\n",
      "321638/321638 [==============================] - 507s 2ms/sample - loss: 2.1664 - acc: 0.4205 - val_loss: 2.1536 - val_acc: 0.4250\n",
      "Epoch 7/20\n",
      "321638/321638 [==============================] - 507s 2ms/sample - loss: 2.1465 - acc: 0.4263 - val_loss: 2.1448 - val_acc: 0.4276\n",
      "Epoch 8/20\n",
      "321638/321638 [==============================] - 506s 2ms/sample - loss: 2.1333 - acc: 0.4310 - val_loss: 2.1218 - val_acc: 0.4344\n",
      "Epoch 9/20\n",
      "321638/321638 [==============================] - 513s 2ms/sample - loss: 2.1183 - acc: 0.4350 - val_loss: 2.1164 - val_acc: 0.4353\n",
      "Epoch 10/20\n",
      "321638/321638 [==============================] - 537s 2ms/sample - loss: 2.1054 - acc: 0.4388 - val_loss: 2.1041 - val_acc: 0.4383\n",
      "Epoch 11/20\n",
      "321638/321638 [==============================] - 512s 2ms/sample - loss: 2.0974 - acc: 0.4397 - val_loss: 2.0908 - val_acc: 0.4419\n",
      "Epoch 12/20\n",
      "321638/321638 [==============================] - 509s 2ms/sample - loss: 2.0828 - acc: 0.4431 - val_loss: 2.0871 - val_acc: 0.4421\n",
      "Epoch 13/20\n",
      "321638/321638 [==============================] - 552s 2ms/sample - loss: 2.0747 - acc: 0.4452 - val_loss: 2.0854 - val_acc: 0.4439\n",
      "Epoch 14/20\n",
      "321638/321638 [==============================] - 570s 2ms/sample - loss: 2.0668 - acc: 0.4490 - val_loss: 2.0764 - val_acc: 0.4453\n",
      "Epoch 15/20\n",
      "321638/321638 [==============================] - 508s 2ms/sample - loss: 2.0588 - acc: 0.4506 - val_loss: 2.0601 - val_acc: 0.4528\n",
      "Epoch 16/20\n",
      "321638/321638 [==============================] - 510s 2ms/sample - loss: 2.0550 - acc: 0.4520 - val_loss: 2.0507 - val_acc: 0.4514\n",
      "Epoch 17/20\n",
      "321638/321638 [==============================] - 512s 2ms/sample - loss: 2.0418 - acc: 0.4556 - val_loss: 2.0597 - val_acc: 0.4487\n",
      "Epoch 18/20\n",
      "321638/321638 [==============================] - 510s 2ms/sample - loss: 2.0381 - acc: 0.4563 - val_loss: 2.0484 - val_acc: 0.4545\n",
      "Epoch 19/20\n",
      "321638/321638 [==============================] - 508s 2ms/sample - loss: 2.0325 - acc: 0.4577 - val_loss: 2.0399 - val_acc: 0.4571\n",
      "Epoch 20/20\n",
      "321638/321638 [==============================] - 510s 2ms/sample - loss: 2.0280 - acc: 0.4597 - val_loss: 2.0350 - val_acc: 0.4603\n"
     ]
    }
   ],
   "source": [
    "from tensorflow.keras.callbacks import ModelCheckpoint, EarlyStopping\n",
    "import warnings\n",
    "warnings.filterwarnings('ignore')\n",
    "\n",
    "\n",
    "callback_list = [ModelCheckpoint(filepath = 'LSTM_model.h5', monitor = 'val_loss',\n",
    "                                                    save_best_only = True),\n",
    "                 EarlyStopping(patience = 5)]\n",
    "\n",
    "history = model.fit(train_padded, y_train_onehot, batch_size = 2048, epochs = 20, callbacks = callback_list,\n",
    "                   validation_data = (test_padded, y_test_onehot))"
   ]
  },
  {
   "cell_type": "code",
   "execution_count": 10,
   "metadata": {},
   "outputs": [
    {
     "name": "stdout",
     "output_type": "stream",
     "text": [
      "107213/107213 [==============================] - 91s 846us/sample - loss: 2.0350 - acc: 0.4603\n"
     ]
    },
    {
     "data": {
      "text/plain": [
       "[2.035041614262966, 0.46033597]"
      ]
     },
     "execution_count": 10,
     "metadata": {},
     "output_type": "execute_result"
    }
   ],
   "source": [
    "from tensorflow.keras.models import load_model\n",
    "\n",
    "restored_model = load_model('LSTM_model.h5')\n",
    "\n",
    "restored_model.evaluate(test_padded, y_test_onehot, verbose = 1)"
   ]
  },
  {
   "cell_type": "code",
   "execution_count": 11,
   "metadata": {},
   "outputs": [],
   "source": [
    "restored_model.save_weights('LSTM_weights.h5')"
   ]
  },
  {
   "cell_type": "code",
   "execution_count": 13,
   "metadata": {},
   "outputs": [
    {
     "data": {
      "image/png": "[encoded data removed]",
      "text/plain": [
       "<Figure size 432x288 with 1 Axes>"
      ]
     },
     "metadata": {
      "needs_background": "light"
     },
     "output_type": "display_data"
    }
   ],
   "source": [
    "epochs = np.arange(1, 21)\n",
    "plt.plot(epochs, history.history['loss'], label = 'Train Loss')\n",
    "plt.plot(epochs, history.history['val_loss'], label = 'Validation Loss')\n",
    "plt.legend()\n",
    "plt.savefig('LSTM_loss.png')\n",
    "plt.show()"
   ]
  },
  {
   "cell_type": "code",
   "execution_count": 14,
   "metadata": {},
   "outputs": [
    {
     "data": {
      "image/png": "[encoded data removed]",
      "text/plain": [
       "<Figure size 432x288 with 1 Axes>"
      ]
     },
     "metadata": {
      "needs_background": "light"
     },
     "output_type": "display_data"
    }
   ],
   "source": [
    "plt.plot(epochs, history.history['acc'], label = 'Training Acc')\n",
    "plt.plot(epochs, history.history['val_acc'], label = 'Validation Acc')\n",
    "plt.legend()\n",
    "plt.savefig('LSTM_acc.png')\n",
    "plt.show()"
   ]
  }
 ],
 "metadata": {
  "kernelspec": {
   "display_name": "Python 3.8.1 64-bit ('test': conda)",
   "language": "python",
   "name": "python38164bittestconda71e86b17d56e4723b6a5e3821da5a065"
  },
  "language_info": {
   "codemirror_mode": {
    "name": "ipython",
    "version": 3
   },
   "file_extension": ".py",
   "mimetype": "text/x-python",
   "name": "python",
   "nbconvert_exporter": "python",
   "pygments_lexer": "ipython3",
   "version": "3.7.6"
  }
 },
 "nbformat": 4,
 "nbformat_minor": 4
}
