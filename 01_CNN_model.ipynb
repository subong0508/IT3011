{
 "cells": [
  {
   "cell_type": "markdown",
   "metadata": {},
   "source": [
    "# 0. Selecting 20 emoticons "
   ]
  },
  {
   "cell_type": "code",
   "execution_count": 1,
   "metadata": {},
   "outputs": [],
   "source": [
    "import numpy as np\n",
    "import pandas as pd\n",
    "import matplotlib.pyplot as plt\n",
    "import seaborn as sns\n",
    "%matplotlib inline"
   ]
  },
  {
   "cell_type": "code",
   "execution_count": 2,
   "metadata": {},
   "outputs": [
    {
     "data": {
      "text/html": [
       "<div>\n",
       "<style scoped>\n",
       "    .dataframe tbody tr th:only-of-type {\n",
       "        vertical-align: middle;\n",
       "    }\n",
       "\n",
       "    .dataframe tbody tr th {\n",
       "        vertical-align: top;\n",
       "    }\n",
       "\n",
       "    .dataframe thead th {\n",
       "        text-align: right;\n",
       "    }\n",
       "</style>\n",
       "<table border=\"1\" class=\"dataframe\">\n",
       "  <thead>\n",
       "    <tr style=\"text-align: right;\">\n",
       "      <th></th>\n",
       "      <th>text</th>\n",
       "      <th>emoji</th>\n",
       "    </tr>\n",
       "  </thead>\n",
       "  <tbody>\n",
       "    <tr>\n",
       "      <th>0</th>\n",
       "      <td>@ATLHawks: Chance The Rapper or Kent Bazemore?...</td>\n",
       "      <td>🤔</td>\n",
       "    </tr>\n",
       "    <tr>\n",
       "      <th>1</th>\n",
       "      <td>@nice_aju: Yup we love you, you're so precious...</td>\n",
       "      <td>💙</td>\n",
       "    </tr>\n",
       "    <tr>\n",
       "      <th>2</th>\n",
       "      <td>Fav  Sing Me to Sleep by Alan Walker</td>\n",
       "      <td>💛</td>\n",
       "    </tr>\n",
       "    <tr>\n",
       "      <th>3</th>\n",
       "      <td>@AshBenzo: Wife From The Real-Life 'Fault In O...</td>\n",
       "      <td>💔</td>\n",
       "    </tr>\n",
       "    <tr>\n",
       "      <th>4</th>\n",
       "      <td>Why am I up so late</td>\n",
       "      <td>😔</td>\n",
       "    </tr>\n",
       "  </tbody>\n",
       "</table>\n",
       "</div>"
      ],
      "text/plain": [
       "                                                text emoji\n",
       "0  @ATLHawks: Chance The Rapper or Kent Bazemore?...     🤔\n",
       "1  @nice_aju: Yup we love you, you're so precious...     💙\n",
       "2               Fav  Sing Me to Sleep by Alan Walker     💛\n",
       "3  @AshBenzo: Wife From The Real-Life 'Fault In O...     💔\n",
       "4                                Why am I up so late     😔"
      ]
     },
     "execution_count": 2,
     "metadata": {},
     "output_type": "execute_result"
    }
   ],
   "source": [
    "all_tweets = pd.read_csv(\"data/emojis.csv\")\n",
    "all_tweets.head()"
   ]
  },
  {
   "cell_type": "code",
   "execution_count": 3,
   "metadata": {},
   "outputs": [],
   "source": [
    "# !pip install emot\n",
    "\n",
    "import re\n",
    "from emot.emo_unicode import UNICODE_EMO, EMOTICONS"
   ]
  },
  {
   "cell_type": "code",
   "execution_count": 4,
   "metadata": {},
   "outputs": [
    {
     "name": "stdout",
     "output_type": "stream",
     "text": [
      "989\n"
     ]
    }
   ],
   "source": [
    "unique_emoji = all_tweets.emoji.unique()\n",
    "print(len(unique_emoji))"
   ]
  },
  {
   "cell_type": "code",
   "execution_count": 5,
   "metadata": {},
   "outputs": [],
   "source": [
    "emoji_counts = all_tweets['emoji'].value_counts().head(20)\n",
    "emoji_counts = emoji_counts.to_frame()"
   ]
  },
  {
   "cell_type": "code",
   "execution_count": 6,
   "metadata": {},
   "outputs": [],
   "source": [
    "emoji_list = np.array(emoji_counts.index)\n",
    "\n",
    "df = all_tweets.loc[all_tweets['emoji'].isin(emoji_list)]"
   ]
  },
  {
   "cell_type": "code",
   "execution_count": 7,
   "metadata": {},
   "outputs": [],
   "source": [
    "pattern = r'(http://[^\"\\s]+)|(@\\w+)|(:)|([^\\w\\d\\s\\.\\?\\!])'"
   ]
  },
  {
   "cell_type": "code",
   "execution_count": 8,
   "metadata": {},
   "outputs": [
    {
     "name": "stderr",
     "output_type": "stream",
     "text": [
      "C:\\Users\\subon\\Desktop\\anaconda\\envs\\test\\lib\\site-packages\\pandas\\core\\indexing.py:1047: SettingWithCopyWarning: \n",
      "A value is trying to be set on a copy of a slice from a DataFrame.\n",
      "Try using .loc[row_indexer,col_indexer] = value instead\n",
      "\n",
      "See the caveats in the documentation: https://pandas.pydata.org/pandas-docs/stable/user_guide/indexing.html#returning-a-view-versus-a-copy\n",
      "  self.obj[item_labels[indexer[info_axis]]] = value\n"
     ]
    }
   ],
   "source": [
    "df.loc[:, \"text\"] = df.text.str.replace(pattern, \"\").values"
   ]
  },
  {
   "cell_type": "markdown",
   "metadata": {},
   "source": [
    "# 1. Vectorization"
   ]
  },
  {
   "cell_type": "code",
   "execution_count": 9,
   "metadata": {},
   "outputs": [
    {
     "name": "stdout",
     "output_type": "stream",
     "text": [
      "Have a better relationship with Ollies mum than I do Ollie.Coming into the salon for a quick natter while Ollie stand there hands over face\n",
      "26\n"
     ]
    }
   ],
   "source": [
    "max_string = max(df['text'], key=lambda t:len(t))\n",
    "print(max_string)\n",
    "max_string_len = len(re.split(r'[\\s+^\\.]', max_string))\n",
    "print(max_string_len)"
   ]
  },
  {
   "cell_type": "markdown",
   "metadata": {},
   "source": [
    "### max_pad_sequence length: 26"
   ]
  },
  {
   "cell_type": "code",
   "execution_count": 10,
   "metadata": {},
   "outputs": [],
   "source": [
    "from sklearn.model_selection import train_test_split\n",
    "\n",
    "train_sentences, test_sentences, train_emojis, test_emojis = train_test_split(df['text'], df['emoji'], stratify = df['emoji'],\n",
    "                                                                             random_state = 3011) # for consistency"
   ]
  },
  {
   "cell_type": "code",
   "execution_count": 11,
   "metadata": {},
   "outputs": [],
   "source": [
    "import tensorflow as tf\n",
    "from tensorflow.keras.preprocessing.text import Tokenizer\n",
    "from tensorflow.keras.preprocessing.sequence import pad_sequences"
   ]
  },
  {
   "cell_type": "markdown",
   "metadata": {},
   "source": [
    "[official documentation](https://keras.io/preprocessing/text/)"
   ]
  },
  {
   "cell_type": "code",
   "execution_count": 12,
   "metadata": {},
   "outputs": [
    {
     "name": "stdout",
     "output_type": "stream",
     "text": [
      "84107\n"
     ]
    }
   ],
   "source": [
    "tokenizer = Tokenizer(oov_token = 'OOV')\n",
    "tokenizer.fit_on_texts(train_sentences)\n",
    "word_index = tokenizer.word_index\n",
    "print(len(word_index))"
   ]
  },
  {
   "cell_type": "code",
   "execution_count": 13,
   "metadata": {},
   "outputs": [
    {
     "name": "stdout",
     "output_type": "stream",
     "text": [
      "[ 40  42   5 251  12  26 220   4 100  18 663 971   0   0   0   0   0   0\n",
      "   0   0   0   0   0   0   0   0]\n",
      "(321638, 26)\n"
     ]
    }
   ],
   "source": [
    "train_sequences = tokenizer.texts_to_sequences(train_sentences)\n",
    "train_padded = pad_sequences(train_sequences, padding = 'post', maxlen = max_string_len)\n",
    "print(train_padded[0])\n",
    "print(train_padded.shape)"
   ]
  },
  {
   "cell_type": "code",
   "execution_count": 14,
   "metadata": {},
   "outputs": [
    {
     "name": "stdout",
     "output_type": "stream",
     "text": [
      "[  36 2030  630    0    0    0    0    0    0    0    0    0    0    0\n",
      "    0    0    0    0    0    0    0    0    0    0    0    0]\n",
      "(107213, 26)\n"
     ]
    }
   ],
   "source": [
    "test_sequences = tokenizer.texts_to_sequences(test_sentences)\n",
    "test_padded = pad_sequences(test_sequences, padding = 'post', maxlen = max_string_len)\n",
    "print(test_padded[0])\n",
    "print(test_padded.shape)"
   ]
  },
  {
   "cell_type": "code",
   "execution_count": 15,
   "metadata": {},
   "outputs": [
    {
     "name": "stdout",
     "output_type": "stream",
     "text": [
      "['😂' '❤' '😍' '😭' '😊' '🙄' '😩' '🔥' '🤔' '💕' '💯' '😘' '💀' '✨' '🙃' '👀' '😒' '☺'\n",
      " '😢' '😳']\n"
     ]
    }
   ],
   "source": [
    "actual_emoji = df['emoji'].value_counts().index.values\n",
    "print(actual_emoji)"
   ]
  },
  {
   "cell_type": "code",
   "execution_count": 16,
   "metadata": {},
   "outputs": [
    {
     "name": "stdout",
     "output_type": "stream",
     "text": [
      "{0: '😂', 1: '❤', 2: '😍', 3: '😭', 4: '😊', 5: '🙄', 6: '😩', 7: '🔥', 8: '🤔', 9: '💕', 10: '💯', 11: '😘', 12: '💀', 13: '✨', 14: '🙃', 15: '👀', 16: '😒', 17: '☺', 18: '😢', 19: '😳'}\n",
      "{'😂': 0, '❤': 1, '😍': 2, '😭': 3, '😊': 4, '🙄': 5, '😩': 6, '🔥': 7, '🤔': 8, '💕': 9, '💯': 10, '😘': 11, '💀': 12, '✨': 13, '🙃': 14, '👀': 15, '😒': 16, '☺': 17, '😢': 18, '😳': 19}\n"
     ]
    }
   ],
   "source": [
    "label_emoji_mapping = dict([(label, emoji) for label, emoji in zip(range(20), actual_emoji)])\n",
    "emoji_label_mapping = dict([(emoji, label) for label, emoji in label_emoji_mapping.items()])\n",
    "print(label_emoji_mapping)\n",
    "print(emoji_label_mapping)"
   ]
  },
  {
   "cell_type": "code",
   "execution_count": 17,
   "metadata": {},
   "outputs": [
    {
     "name": "stdout",
     "output_type": "stream",
     "text": [
      "94558      2\n",
      "610615     2\n",
      "287420     0\n",
      "319632     0\n",
      "665696    16\n",
      "Name: emoji, dtype: int64\n",
      "147070     3\n",
      "610579    18\n",
      "589621     1\n",
      "519277     0\n",
      "452605     3\n",
      "Name: emoji, dtype: int64\n"
     ]
    }
   ],
   "source": [
    "y_train, y_test = train_emojis.replace(emoji_label_mapping), test_emojis.replace(emoji_label_mapping)\n",
    "\n",
    "print(pd.Series(y_train).head())\n",
    "print(pd.Series(y_test).head())"
   ]
  },
  {
   "cell_type": "code",
   "execution_count": 18,
   "metadata": {},
   "outputs": [
    {
     "name": "stdout",
     "output_type": "stream",
     "text": [
      "(321638, 26) (107213, 26)\n",
      "(321638, 20) (107213, 20)\n"
     ]
    }
   ],
   "source": [
    "from tensorflow.keras.utils import to_categorical\n",
    "\n",
    "y_train_onehot = to_categorical(y_train)\n",
    "y_test_onehot = to_categorical(y_test)\n",
    "\n",
    "print(train_padded.shape, test_padded.shape)\n",
    "print(y_train_onehot.shape, y_test_onehot.shape)"
   ]
  },
  {
   "cell_type": "markdown",
   "metadata": {},
   "source": [
    "### looks like we are prepared ..."
   ]
  },
  {
   "cell_type": "markdown",
   "metadata": {},
   "source": [
    "# 2. Exploiting CNN model\n",
    "[reference link](http://ceur-ws.org/Vol-2244/paper_11.pdf)"
   ]
  },
  {
   "cell_type": "code",
   "execution_count": 19,
   "metadata": {},
   "outputs": [
    {
     "name": "stdout",
     "output_type": "stream",
     "text": [
      "Model: \"sequential\"\n",
      "_________________________________________________________________\n",
      "Layer (type)                 Output Shape              Param #   \n",
      "=================================================================\n",
      "embedding (Embedding)        (None, 26, 200)           16821600  \n",
      "_________________________________________________________________\n",
      "dropout (Dropout)            (None, 26, 200)           0         \n",
      "_________________________________________________________________\n",
      "conv1d (Conv1D)              (None, 26, 512)           512512    \n",
      "_________________________________________________________________\n",
      "max_pooling1d (MaxPooling1D) (None, 5, 512)            0         \n",
      "_________________________________________________________________\n",
      "flatten (Flatten)            (None, 2560)              0         \n",
      "_________________________________________________________________\n",
      "dropout_1 (Dropout)          (None, 2560)              0         \n",
      "_________________________________________________________________\n",
      "dense (Dense)                (None, 20)                51220     \n",
      "=================================================================\n",
      "Total params: 17,385,332\n",
      "Trainable params: 17,385,332\n",
      "Non-trainable params: 0\n",
      "_________________________________________________________________\n"
     ]
    }
   ],
   "source": [
    "from tensorflow.keras import models, layers\n",
    "\n",
    "vocab_size = len(word_index) + 1\n",
    "embedding_dim = 200\n",
    "\n",
    "model = models.Sequential()\n",
    "model.add(layers.Embedding(input_dim = vocab_size, output_dim = embedding_dim,\n",
    "                          embeddings_regularizer = 'l2', input_length = 26, mask_zero = True, trainable = True))\n",
    "model.add(layers.Dropout(0.4))\n",
    "model.add(layers.Conv1D(filters = 512, kernel_size = 5, activation = 'relu',\n",
    "                       padding = 'same', kernel_regularizer = 'l2'))\n",
    "model.add(layers.MaxPool1D(5))\n",
    "model.add(layers.Flatten())\n",
    "model.add(layers.Dropout(0.4))\n",
    "model.add(layers.Dense(20, activation = 'softmax'))\n",
    "\n",
    "model.summary()"
   ]
  },
  {
   "cell_type": "code",
   "execution_count": 20,
   "metadata": {},
   "outputs": [],
   "source": [
    "model.compile(loss = 'categorical_crossentropy', optimizer = 'adam', metrics = ['acc'])"
   ]
  },
  {
   "cell_type": "code",
   "execution_count": 21,
   "metadata": {},
   "outputs": [
    {
     "name": "stdout",
     "output_type": "stream",
     "text": [
      "Train on 321638 samples, validate on 107213 samples\n",
      "Epoch 1/10\n",
      "321638/321638 [==============================] - 1709s 5ms/sample - loss: 15.2617 - acc: 0.2897 - val_loss: 2.5437 - val_acc: 0.2911\n",
      "Epoch 2/10\n",
      "321638/321638 [==============================] - 1771s 6ms/sample - loss: 2.5446 - acc: 0.2911 - val_loss: 2.5448 - val_acc: 0.2911\n",
      "Epoch 3/10\n",
      "321638/321638 [==============================] - 1743s 5ms/sample - loss: 2.5423 - acc: 0.2911 - val_loss: 2.5417 - val_acc: 0.2911\n",
      "Epoch 4/10\n",
      "321638/321638 [==============================] - 1741s 5ms/sample - loss: 2.5399 - acc: 0.2911 - val_loss: 2.5388 - val_acc: 0.2911\n",
      "Epoch 5/10\n",
      "321638/321638 [==============================] - 1746s 5ms/sample - loss: 2.5258 - acc: 0.3028 - val_loss: 2.5116 - val_acc: 0.3150\n",
      "Epoch 6/10\n",
      "321638/321638 [==============================] - 1766s 5ms/sample - loss: 2.5011 - acc: 0.3206 - val_loss: 2.4913 - val_acc: 0.3288\n",
      "Epoch 7/10\n",
      "321638/321638 [==============================] - 1753s 5ms/sample - loss: 2.4854 - acc: 0.3273 - val_loss: 2.4874 - val_acc: 0.3369\n",
      "Epoch 8/10\n",
      "321638/321638 [==============================] - 1775s 6ms/sample - loss: 2.4752 - acc: 0.3319 - val_loss: 2.4678 - val_acc: 0.3381\n",
      "Epoch 9/10\n",
      "321638/321638 [==============================] - 1753s 5ms/sample - loss: 2.4694 - acc: 0.3342 - val_loss: 2.4622 - val_acc: 0.3362\n",
      "Epoch 10/10\n",
      "321638/321638 [==============================] - 1743s 5ms/sample - loss: 2.4646 - acc: 0.3364 - val_loss: 2.4599 - val_acc: 0.3417\n"
     ]
    }
   ],
   "source": [
    "from tensorflow.keras.callbacks import ModelCheckpoint, EarlyStopping\n",
    "import warnings\n",
    "warnings.filterwarnings('ignore')\n",
    "\n",
    "\n",
    "callback_list = [ModelCheckpoint(filepath = 'cnn_model.h5', monitor = 'loss',\n",
    "                                                    save_best_only = True),\n",
    "                 EarlyStopping(patience = 5)]\n",
    "\n",
    "history = model.fit(train_padded, y_train_onehot, batch_size = 2048, epochs = 10, callbacks = callback_list,\n",
    "                   validation_data = (test_padded, y_test_onehot))"
   ]
  },
  {
   "cell_type": "code",
   "execution_count": 25,
   "metadata": {},
   "outputs": [
    {
     "name": "stdout",
     "output_type": "stream",
     "text": [
      "107213/107213 [==============================] - 429s 4ms/sample - loss: 2.4599 - acc: 0.3417\n"
     ]
    },
    {
     "data": {
      "text/plain": [
       "[2.459889987176999, 0.34166566]"
      ]
     },
     "execution_count": 25,
     "metadata": {},
     "output_type": "execute_result"
    }
   ],
   "source": [
    "model.load_weights('cnn_model.h5')\n",
    "model.evaluate(test_padded, y_test_onehot)"
   ]
  },
  {
   "cell_type": "code",
   "execution_count": 26,
   "metadata": {},
   "outputs": [],
   "source": [
    "model.save_weights('cnn_weights.h5')\n",
    "model.save('cnn_model.h5')"
   ]
  },
  {
   "cell_type": "code",
   "execution_count": 44,
   "metadata": {},
   "outputs": [
    {
     "data": {
      "image/png": "[encoded data removed]",
      "text/plain": [
       "<Figure size 432x288 with 1 Axes>"
      ]
     },
     "metadata": {
      "needs_background": "light"
     },
     "output_type": "display_data"
    }
   ],
   "source": [
    "import matplotlib.pyplot as plt\n",
    "epochs = np.arange(1, 11)\n",
    "plt.plot(epochs, history.history['loss'], label = 'Train Loss')\n",
    "plt.plot(epochs, history.history['val_loss'], label = 'Validation Loss')\n",
    "plt.legend()\n",
    "plt.savefig('cnn_loss.png')\n",
    "plt.show()"
   ]
  },
  {
   "cell_type": "code",
   "execution_count": 45,
   "metadata": {},
   "outputs": [
    {
     "data": {
      "image/png": "[encoded data removed]",
      "text/plain": [
       "<Figure size 432x288 with 1 Axes>"
      ]
     },
     "metadata": {
      "needs_background": "light"
     },
     "output_type": "display_data"
    }
   ],
   "source": [
    "plt.plot(epochs, history.history['acc'], label = 'Training Acc')\n",
    "plt.plot(epochs, history.history['val_acc'], label = 'Validation Acc')\n",
    "plt.legend()\n",
    "plt.savefig('cnn_acc.png')\n",
    "plt.show()"
   ]
  },
  {
   "cell_type": "code",
   "execution_count": 46,
   "metadata": {},
   "outputs": [],
   "source": [
    "class getXY():\n",
    "    def __init__(self):\n",
    "        pass\n",
    "    \n",
    "    def get_train_set(self):\n",
    "        return train_padded, y_train_onehot\n",
    "    \n",
    "    def get_test_set(self):\n",
    "        return test_padded, y_test_onehot\n",
    "\n",
    "\n",
    "import pickle\n",
    "\n",
    "with open('getXY.pickle', 'wb') as f:\n",
    "    pickle.dump(getXY, f)\n",
    "    \n",
    "with open('getXY.pickle', 'rb') as f:\n",
    "    test = pickle.load(f)"
   ]
  },
  {
   "cell_type": "code",
   "execution_count": 47,
   "metadata": {},
   "outputs": [],
   "source": [
    "x, y = test().get_train_set()"
   ]
  },
  {
   "cell_type": "code",
   "execution_count": 48,
   "metadata": {},
   "outputs": [
    {
     "data": {
      "text/plain": [
       "True"
      ]
     },
     "execution_count": 48,
     "metadata": {},
     "output_type": "execute_result"
    }
   ],
   "source": [
    "np.all(x == train_padded) and np.all(y == y_train_onehot)"
   ]
  }
 ],
 "metadata": {
  "kernelspec": {
   "display_name": "Python 3.8.1 64-bit ('test': conda)",
   "language": "python",
   "name": "python38164bittestconda71e86b17d56e4723b6a5e3821da5a065"
  },
  "language_info": {
   "codemirror_mode": {
    "name": "ipython",
    "version": 3
   },
   "file_extension": ".py",
   "mimetype": "text/x-python",
   "name": "python",
   "nbconvert_exporter": "python",
   "pygments_lexer": "ipython3",
   "version": "3.7.6"
  }
 },
 "nbformat": 4,
 "nbformat_minor": 4
}
