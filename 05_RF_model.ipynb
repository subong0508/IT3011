{
 "cells": [
  {
   "cell_type": "code",
   "execution_count": 1,
   "metadata": {},
   "outputs": [],
   "source": [
    "import numpy as np\n",
    "import pandas as pd\n",
    "import matplotlib.pyplot as plt\n",
    "import seaborn as sns\n",
    "%matplotlib inline"
   ]
  },
  {
   "cell_type": "code",
   "execution_count": 2,
   "metadata": {},
   "outputs": [
    {
     "name": "stderr",
     "output_type": "stream",
     "text": [
      "C:\\Users\\subon\\Desktop\\anaconda\\envs\\test\\lib\\site-packages\\pandas\\core\\indexing.py:1047: SettingWithCopyWarning: \n",
      "A value is trying to be set on a copy of a slice from a DataFrame.\n",
      "Try using .loc[row_indexer,col_indexer] = value instead\n",
      "\n",
      "See the caveats in the documentation: https://pandas.pydata.org/pandas-docs/stable/user_guide/indexing.html#returning-a-view-versus-a-copy\n",
      "  self.obj[item_labels[indexer[info_axis]]] = value\n"
     ]
    }
   ],
   "source": [
    "all_tweets = pd.read_csv(\"data/emojis.csv\")\n",
    "\n",
    "import re\n",
    "from emot.emo_unicode import UNICODE_EMO, EMOTICONS\n",
    "\n",
    "emoji_counts = all_tweets['emoji'].value_counts().head(20)\n",
    "emoji_counts = emoji_counts.to_frame()\n",
    "emoji_list = np.array(emoji_counts.index)\n",
    "\n",
    "df = all_tweets.loc[all_tweets['emoji'].isin(emoji_list)]\n",
    "pattern = r'(http://[^\"\\s]+)|(@\\w+)|(:)|([^\\w\\d\\s\\.\\?\\!])'\n",
    "\n",
    "df.loc[:, \"text\"] = df.text.str.replace(pattern, \"\").values"
   ]
  },
  {
   "cell_type": "code",
   "execution_count": 3,
   "metadata": {},
   "outputs": [],
   "source": [
    "actual_emoji = df['emoji'].value_counts().index.values\n",
    "label_emoji_mapping = dict([(label, emoji) for label, emoji in zip(range(20), actual_emoji)])\n",
    "emoji_label_mapping = dict([(emoji, label) for label, emoji in label_emoji_mapping.items()])"
   ]
  },
  {
   "cell_type": "code",
   "execution_count": 4,
   "metadata": {},
   "outputs": [],
   "source": [
    "from sklearn.model_selection import train_test_split\n",
    "\n",
    "\n",
    "train_sentences, test_sentences, train_emojis, test_emojis = train_test_split(df['text'], df['emoji'], \n",
    "                                                                              stratify = df['emoji'], random_state = 3011)"
   ]
  },
  {
   "cell_type": "code",
   "execution_count": 5,
   "metadata": {},
   "outputs": [
    {
     "name": "stdout",
     "output_type": "stream",
     "text": [
      "(321638, 10000) (107213, 10000)\n"
     ]
    }
   ],
   "source": [
    "from sklearn.feature_extraction.text import TfidfVectorizer\n",
    "\n",
    "VOCAB_SIZE = 10000 # to prevent MemoryError\n",
    "vectorizer = TfidfVectorizer(stop_words = 'english', max_features = VOCAB_SIZE)\n",
    "\n",
    "X_train = vectorizer.fit_transform(train_sentences)\n",
    "X_test = vectorizer.transform(test_sentences)\n",
    "\n",
    "print(X_train.shape, X_test.shape)"
   ]
  },
  {
   "cell_type": "code",
   "execution_count": 6,
   "metadata": {},
   "outputs": [],
   "source": [
    "y_train, y_test = train_emojis.replace(emoji_label_mapping), test_emojis.replace(emoji_label_mapping)"
   ]
  },
  {
   "cell_type": "code",
   "execution_count": 7,
   "metadata": {},
   "outputs": [],
   "source": [
    "from sklearn.ensemble import RandomForestClassifier"
   ]
  },
  {
   "cell_type": "code",
   "execution_count": null,
   "metadata": {},
   "outputs": [],
   "source": [
    "clf_forest = RandomForestClassifier(n_estimators=200, oob_score=False)\n",
    "clf_forest.set_params(max_features=10000)\n",
    "clf_forest.fit(X_train, y_train)"
   ]
  },
  {
   "cell_type": "code",
   "execution_count": null,
   "metadata": {},
   "outputs": [],
   "source": []
  },
  {
   "cell_type": "code",
   "execution_count": null,
   "metadata": {},
   "outputs": [],
   "source": []
  },
  {
   "cell_type": "code",
   "execution_count": null,
   "metadata": {},
   "outputs": [],
   "source": []
  },
  {
   "cell_type": "code",
   "execution_count": null,
   "metadata": {},
   "outputs": [],
   "source": []
  }
 ],
 "metadata": {
  "kernelspec": {
   "display_name": "Python 3.8.1 64-bit ('test': conda)",
   "language": "python",
   "name": "python38164bittestconda71e86b17d56e4723b6a5e3821da5a065"
  }
 },
 "nbformat": 4,
 "nbformat_minor": 2
}
