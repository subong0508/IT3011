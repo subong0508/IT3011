{
 "cells": [
  {
   "cell_type": "markdown",
   "metadata": {},
   "source": [
    "# 0. get X, Y"
   ]
  },
  {
   "cell_type": "code",
   "execution_count": 9,
   "metadata": {},
   "outputs": [],
   "source": [
    "import pickle\n",
    "import getXY_new\n",
    "import numpy as np\n",
    "import pandas as pd\n",
    "import matplotlib.pyplot as plt\n",
    "%matplotlib inline\n",
    "\n",
    "with open('getXY_new.pickle', 'rb') as f:\n",
    "    get = pickle.load(f)"
   ]
  },
  {
   "cell_type": "code",
   "execution_count": 10,
   "metadata": {},
   "outputs": [
    {
     "name": "stdout",
     "output_type": "stream",
     "text": [
      "(321638, 26) (107213, 26)\n",
      "9999\n"
     ]
    }
   ],
   "source": [
    "train_padded, y_train_onehot = get.get_train_set()\n",
    "test_padded, y_test_onehot = get.get_test_set()\n",
    "\n",
    "print(train_padded.shape, test_padded.shape)\n",
    "print(np.max(train_padded)) # revised"
   ]
  },
  {
   "cell_type": "markdown",
   "metadata": {},
   "source": [
    "# 1. Implementing 2 layer LSTM"
   ]
  },
  {
   "cell_type": "code",
   "execution_count": 16,
   "metadata": {},
   "outputs": [
    {
     "name": "stdout",
     "output_type": "stream",
     "text": [
      "Model: \"sequential_4\"\n",
      "_________________________________________________________________\n",
      "Layer (type)                 Output Shape              Param #   \n",
      "=================================================================\n",
      "embedding_4 (Embedding)      (None, 26, 200)           2000000   \n",
      "_________________________________________________________________\n",
      "lstm_6 (LSTM)                (None, 26, 128)           168448    \n",
      "_________________________________________________________________\n",
      "lstm_7 (LSTM)                (None, 128)               131584    \n",
      "_________________________________________________________________\n",
      "dropout (Dropout)            (None, 128)               0         \n",
      "_________________________________________________________________\n",
      "dense_3 (Dense)              (None, 20)                2580      \n",
      "=================================================================\n",
      "Total params: 2,302,612\n",
      "Trainable params: 2,302,612\n",
      "Non-trainable params: 0\n",
      "_________________________________________________________________\n"
     ]
    }
   ],
   "source": [
    "from tensorflow.keras import models, layers\n",
    "\n",
    "vocab_size = np.max(train_padded) + 1\n",
    "embedding_dim = 200\n",
    "\n",
    "model = models.Sequential()\n",
    "model.add(layers.Embedding(input_dim = vocab_size, output_dim = embedding_dim,\n",
    "                          embeddings_regularizer = 'l2', input_length = 26, mask_zero = True, trainable = True))\n",
    "model.add(layers.LSTM(128, return_sequences = True))\n",
    "model.add(layers.LSTM(128))\n",
    "model.add(layers.Dropout(0.25))\n",
    "model.add(layers.Dense(20, activation='softmax'))\n",
    "\n",
    "model.summary()"
   ]
  },
  {
   "cell_type": "code",
   "execution_count": 17,
   "metadata": {},
   "outputs": [],
   "source": [
    "model.compile(loss = 'categorical_crossentropy', optimizer = 'adam', metrics = ['acc'])"
   ]
  },
  {
   "cell_type": "code",
   "execution_count": 19,
   "metadata": {},
   "outputs": [
    {
     "name": "stdout",
     "output_type": "stream",
     "text": [
      "Train on 321638 samples, validate on 107213 samples\n",
      "Epoch 1/20\n",
      "321638/321638 [==============================] - 939s 3ms/sample - loss: 2.4193 - acc: 0.3362 - val_loss: 2.3374 - val_acc: 0.3585\n",
      "Epoch 2/20\n",
      "321638/321638 [==============================] - 906s 3ms/sample - loss: 2.3092 - acc: 0.3713 - val_loss: 2.2710 - val_acc: 0.3862\n",
      "Epoch 3/20\n",
      "321638/321638 [==============================] - 913s 3ms/sample - loss: 2.2395 - acc: 0.3977 - val_loss: 2.2028 - val_acc: 0.4059\n",
      "Epoch 4/20\n",
      "321638/321638 [==============================] - 884s 3ms/sample - loss: 2.1909 - acc: 0.4123 - val_loss: 2.1623 - val_acc: 0.4188\n",
      "Epoch 5/20\n",
      "321638/321638 [==============================] - 1050s 3ms/sample - loss: 2.1621 - acc: 0.4200 - val_loss: 2.1575 - val_acc: 0.4220\n",
      "Epoch 6/20\n",
      "321638/321638 [==============================] - 1078s 3ms/sample - loss: 2.1436 - acc: 0.4252 - val_loss: 2.1226 - val_acc: 0.4282\n",
      "Epoch 7/20\n",
      "321638/321638 [==============================] - 1056s 3ms/sample - loss: 2.1201 - acc: 0.4306 - val_loss: 2.1057 - val_acc: 0.4345\n",
      "Epoch 8/20\n",
      "321638/321638 [==============================] - 1061s 3ms/sample - loss: 2.1039 - acc: 0.4343 - val_loss: 2.0894 - val_acc: 0.4375\n",
      "Epoch 9/20\n",
      "321638/321638 [==============================] - 1232s 4ms/sample - loss: 2.0881 - acc: 0.4384 - val_loss: 2.0684 - val_acc: 0.4408\n",
      "Epoch 10/20\n",
      "321638/321638 [==============================] - 991s 3ms/sample - loss: 2.0706 - acc: 0.4423 - val_loss: 2.0571 - val_acc: 0.4451\n",
      "Epoch 11/20\n",
      "321638/321638 [==============================] - 956s 3ms/sample - loss: 2.0579 - acc: 0.4457 - val_loss: 2.0441 - val_acc: 0.4474\n",
      "Epoch 12/20\n",
      "321638/321638 [==============================] - 901s 3ms/sample - loss: 2.0456 - acc: 0.4497 - val_loss: 2.0312 - val_acc: 0.4522\n",
      "Epoch 13/20\n",
      "321638/321638 [==============================] - 886s 3ms/sample - loss: 2.0347 - acc: 0.4522 - val_loss: 2.0211 - val_acc: 0.4549\n",
      "Epoch 14/20\n",
      "321638/321638 [==============================] - 871s 3ms/sample - loss: 2.0261 - acc: 0.4538 - val_loss: 2.0126 - val_acc: 0.4564\n",
      "Epoch 15/20\n",
      "321638/321638 [==============================] - 894s 3ms/sample - loss: 2.0159 - acc: 0.4566 - val_loss: 2.0077 - val_acc: 0.4570\n",
      "Epoch 16/20\n",
      "321638/321638 [==============================] - 933s 3ms/sample - loss: 2.0089 - acc: 0.4588 - val_loss: 2.0182 - val_acc: 0.4569\n",
      "Epoch 17/20\n",
      "321638/321638 [==============================] - 951s 3ms/sample - loss: 1.9995 - acc: 0.4621 - val_loss: 2.0029 - val_acc: 0.4592\n",
      "Epoch 18/20\n",
      "321638/321638 [==============================] - 982s 3ms/sample - loss: 1.9935 - acc: 0.4633 - val_loss: 1.9856 - val_acc: 0.4639\n",
      "Epoch 19/20\n",
      "321638/321638 [==============================] - 949s 3ms/sample - loss: 1.9840 - acc: 0.4658 - val_loss: 1.9837 - val_acc: 0.4645\n",
      "Epoch 20/20\n",
      "321638/321638 [==============================] - 925s 3ms/sample - loss: 1.9785 - acc: 0.4672 - val_loss: 1.9738 - val_acc: 0.4655\n"
     ]
    }
   ],
   "source": [
    "from tensorflow.keras.callbacks import ModelCheckpoint, EarlyStopping\n",
    "import warnings\n",
    "warnings.filterwarnings('ignore')\n",
    "\n",
    "\n",
    "callback_list = [ModelCheckpoint(filepath = 'LSTM_model2.h5', monitor = 'val_loss',\n",
    "                                                    save_best_only = True),\n",
    "                 EarlyStopping(patience = 5)]\n",
    "\n",
    "history = model.fit(train_padded, y_train_onehot, batch_size = 2048, epochs = 20, callbacks = callback_list,\n",
    "                   validation_data = (test_padded, y_test_onehot))"
   ]
  },
  {
   "cell_type": "code",
   "execution_count": 20,
   "metadata": {},
   "outputs": [
    {
     "name": "stdout",
     "output_type": "stream",
     "text": [
      "107213/107213 [==============================] - 137s 1ms/sample - loss: 1.9738 - acc: 0.4655\n"
     ]
    },
    {
     "data": {
      "text/plain": [
       "[1.973839108397978, 0.4654566]"
      ]
     },
     "execution_count": 20,
     "metadata": {},
     "output_type": "execute_result"
    }
   ],
   "source": [
    "from tensorflow.keras.models import load_model\n",
    "\n",
    "restored_model = load_model('LSTM_model2.h5')\n",
    "\n",
    "restored_model.evaluate(test_padded, y_test_onehot, verbose = 1)"
   ]
  },
  {
   "cell_type": "code",
   "execution_count": 21,
   "metadata": {},
   "outputs": [],
   "source": [
    "restored_model.save_weights('LSTM_weights2.h5')"
   ]
  },
  {
   "cell_type": "code",
   "execution_count": 23,
   "metadata": {},
   "outputs": [
    {
     "data": {
      "image/png": "[encoded data removed]",
      "text/plain": [
       "<Figure size 432x288 with 1 Axes>"
      ]
     },
     "metadata": {
      "needs_background": "light"
     },
     "output_type": "display_data"
    }
   ],
   "source": [
    "import matplotlib.pyplot as plt\n",
    "epochs = np.arange(1, 21)\n",
    "plt.plot(epochs, history.history['loss'], label = 'Train Loss')\n",
    "plt.plot(epochs, history.history['val_loss'], label = 'Validation Loss')\n",
    "plt.legend()\n",
    "plt.savefig('LSTM_loss2.png')\n",
    "plt.show()"
   ]
  },
  {
   "cell_type": "code",
   "execution_count": 24,
   "metadata": {},
   "outputs": [
    {
     "data": {
      "image/png": "[encoded data removed]",
      "text/plain": [
       "<Figure size 432x288 with 1 Axes>"
      ]
     },
     "metadata": {
      "needs_background": "light"
     },
     "output_type": "display_data"
    }
   ],
   "source": [
    "plt.plot(epochs, history.history['acc'], label = 'Training Acc')\n",
    "plt.plot(epochs, history.history['val_acc'], label = 'Validation Acc')\n",
    "plt.legend()\n",
    "plt.savefig('LSTM_acc2.png')\n",
    "plt.show()"
   ]
  },
  {
   "cell_type": "code",
   "execution_count": null,
   "metadata": {},
   "outputs": [],
   "source": []
  }
 ],
 "metadata": {
  "kernelspec": {
   "display_name": "Python 3.8.1 64-bit ('test': conda)",
   "language": "python",
   "name": "python38164bittestconda71e86b17d56e4723b6a5e3821da5a065"
  },
  "language_info": {
   "codemirror_mode": {
    "name": "ipython",
    "version": 3
   },
   "file_extension": ".py",
   "mimetype": "text/x-python",
   "name": "python",
   "nbconvert_exporter": "python",
   "pygments_lexer": "ipython3",
   "version": "3.7.6"
  }
 },
 "nbformat": 4,
 "nbformat_minor": 4
}
