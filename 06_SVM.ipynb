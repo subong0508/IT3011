{
 "cells": [
  {
   "cell_type": "code",
   "execution_count": 1,
   "metadata": {},
   "outputs": [],
   "source": [
    "import numpy as np\n",
    "import pandas as pd\n",
    "import matplotlib.pyplot as plt\n",
    "import seaborn as sns\n",
    "%matplotlib inline"
   ]
  },
  {
   "cell_type": "code",
   "execution_count": 2,
   "metadata": {},
   "outputs": [
    {
     "name": "stderr",
     "output_type": "stream",
     "text": [
      "C:\\Users\\User\\Anaconda3\\lib\\site-packages\\pandas\\core\\indexing.py:635: SettingWithCopyWarning: \n",
      "A value is trying to be set on a copy of a slice from a DataFrame.\n",
      "Try using .loc[row_indexer,col_indexer] = value instead\n",
      "\n",
      "See the caveats in the documentation: http://pandas.pydata.org/pandas-docs/stable/indexing.html#indexing-view-versus-copy\n",
      "  self.obj[item_labels[indexer[info_axis]]] = value\n"
     ]
    }
   ],
   "source": [
    "all_tweets = pd.read_csv(\"data/emojis.csv\")\n",
    "\n",
    "import re\n",
    "from emot.emo_unicode import UNICODE_EMO, EMOTICONS\n",
    "\n",
    "emoji_counts = all_tweets['emoji'].value_counts().head(20)\n",
    "emoji_counts = emoji_counts.to_frame()\n",
    "emoji_list = np.array(emoji_counts.index)\n",
    "\n",
    "df = all_tweets.loc[all_tweets['emoji'].isin(emoji_list)]\n",
    "pattern = r'(http://[^\"\\s]+)|(@\\w+)|(:)|([^\\w\\d\\s\\.\\?\\!])'\n",
    "\n",
    "df.loc[:, \"text\"] = df.text.str.replace(pattern, \"\").values"
   ]
  },
  {
   "cell_type": "code",
   "execution_count": 3,
   "metadata": {},
   "outputs": [],
   "source": [
    "actual_emoji = df['emoji'].value_counts().index.values\n",
    "label_emoji_mapping = dict([(label, emoji) for label, emoji in zip(range(20), actual_emoji)])\n",
    "emoji_label_mapping = dict([(emoji, label) for label, emoji in label_emoji_mapping.items()])"
   ]
  },
  {
   "cell_type": "code",
   "execution_count": 4,
   "metadata": {},
   "outputs": [],
   "source": [
    "from sklearn.model_selection import train_test_split\n",
    "\n",
    "\n",
    "train_sentences, test_sentences, train_emojis, test_emojis = train_test_split(df['text'], df['emoji'], \n",
    "                                                                              stratify = df['emoji'], random_state = 3011)"
   ]
  },
  {
   "cell_type": "markdown",
   "metadata": {},
   "source": [
    "# vectorization"
   ]
  },
  {
   "cell_type": "code",
   "execution_count": 5,
   "metadata": {},
   "outputs": [
    {
     "name": "stdout",
     "output_type": "stream",
     "text": [
      "(321638, 10000) (107213, 10000)\n"
     ]
    }
   ],
   "source": [
    "from sklearn.feature_extraction.text import TfidfVectorizer\n",
    "\n",
    "VOCAB_SIZE = 10000 # to prevent MemoryError\n",
    "vectorizer = TfidfVectorizer(stop_words = 'english', max_features = VOCAB_SIZE)\n",
    "\n",
    "X_train = vectorizer.fit_transform(train_sentences)\n",
    "X_test = vectorizer.transform(test_sentences)\n",
    "\n",
    "print(X_train.shape, X_test.shape)"
   ]
  },
  {
   "cell_type": "markdown",
   "metadata": {},
   "source": []
  },
  {
   "cell_type": "code",
   "execution_count": 6,
   "metadata": {},
   "outputs": [],
   "source": [
    "y_train, y_test = train_emojis.replace(emoji_label_mapping), test_emojis.replace(emoji_label_mapping)"
   ]
  },
  {
   "cell_type": "code",
   "execution_count": 7,
   "metadata": {},
   "outputs": [],
   "source": [
    "import time\n",
    "from sklearn import svm\n",
    "from sklearn.metrics import classification_report\n",
    "# Perform classification with SVM, kernel=linear\n",
    "classifier_linear = svm.SVC(kernel='linear')\n",
    "t0 = time.time()\n",
    "classifier_linear.fit(X_train, y_train)\n",
    "t1 = time.time()\n",
    "prediction_linear = classifier_linear.predict(X_test)\n",
    "t2 = time.time()\n",
    "time_linear_train = t1-t0\n",
    "time_linear_predict = t2-t1"
   ]
  },
  {
   "cell_type": "code",
   "execution_count": 14,
   "metadata": {},
   "outputs": [
    {
     "name": "stdout",
     "output_type": "stream",
     "text": [
      "Training time: 20969.143530s; Prediction time: 1928.677368s\n"
     ]
    }
   ],
   "source": [
    "from sklearn.metrics import classification_report\n",
    "print(\"Training time: %fs; Prediction time: %fs\" % (time_linear_train, time_linear_predict))\n",
    "report = classification_report(y_test, prediction_linear)"
   ]
  },
  {
   "cell_type": "code",
   "execution_count": 15,
   "metadata": {},
   "outputs": [
    {
     "name": "stdout",
     "output_type": "stream",
     "text": [
      "              precision    recall  f1-score   support\n",
      "\n",
      "           0       0.43      0.90      0.58     31206\n",
      "           1       0.44      0.56      0.49     10805\n",
      "           2       0.50      0.52      0.51     10142\n",
      "           3       0.49      0.24      0.32      8929\n",
      "           4       0.54      0.25      0.34      5019\n",
      "           5       0.39      0.06      0.10      4491\n",
      "           6       0.44      0.12      0.18      4058\n",
      "           7       0.67      0.47      0.56      3863\n",
      "           8       0.61      0.11      0.18      3855\n",
      "           9       0.55      0.08      0.14      3006\n",
      "          10       0.68      0.19      0.30      2946\n",
      "          11       0.63      0.17      0.27      2766\n",
      "          12       0.89      0.14      0.24      2482\n",
      "          13       0.81      0.45      0.58      2471\n",
      "          14       0.64      0.05      0.08      2351\n",
      "          15       0.74      0.20      0.31      1960\n",
      "          16       0.84      0.03      0.06      1755\n",
      "          17       0.74      0.06      0.11      1718\n",
      "          18       0.92      0.30      0.45      1711\n",
      "          19       0.82      0.27      0.40      1679\n",
      "\n",
      "    accuracy                           0.47    107213\n",
      "   macro avg       0.64      0.26      0.31    107213\n",
      "weighted avg       0.53      0.47      0.41    107213\n",
      "\n"
     ]
    }
   ],
   "source": [
    "print(report)"
   ]
  },
  {
   "cell_type": "code",
   "execution_count": null,
   "metadata": {},
   "outputs": [],
   "source": []
  }
 ],
 "metadata": {
  "kernelspec": {
   "display_name": "Python 3",
   "language": "python",
   "name": "python3"
  },
  "language_info": {
   "codemirror_mode": {
    "name": "ipython",
    "version": 3
   },
   "file_extension": ".py",
   "mimetype": "text/x-python",
   "name": "python",
   "nbconvert_exporter": "python",
   "pygments_lexer": "ipython3",
   "version": "3.7.3"
  }
 },
 "nbformat": 4,
 "nbformat_minor": 2
}
